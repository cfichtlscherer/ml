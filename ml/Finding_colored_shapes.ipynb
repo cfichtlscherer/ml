{
 "cells": [
  {
   "cell_type": "code",
   "execution_count": 1,
   "metadata": {},
   "outputs": [],
   "source": [
    "import numpy as np\n",
    "import tensorflow as tf\n",
    "from tensorflow import keras\n",
    "import matplotlib.pyplot as plt\n",
    "import random"
   ]
  },
  {
   "cell_type": "code",
   "execution_count": 2,
   "metadata": {},
   "outputs": [],
   "source": [
    "np.random.seed(10)"
   ]
  },
  {
   "cell_type": "markdown",
   "metadata": {},
   "source": [
    "### Generate Shapes"
   ]
  },
  {
   "cell_type": "code",
   "execution_count": 24,
   "metadata": {},
   "outputs": [],
   "source": [
    "def create_rectangle(top_left, bottom_right, size):\n",
    "    R = np.zeros((size, size), dtype = np.uint8)\n",
    "    for i in range(top_left[0], bottom_right[0]+1):\n",
    "        for j in range(top_left[1], bottom_right[1]+1):\n",
    "            R[[i],[j]] = 1\n",
    "            \n",
    "    return R\n",
    "\n",
    "def create_circle(top_left, bottom_right, size):\n",
    "    C = np.zeros((size, size), dtype = np.uint8)\n",
    "    for i in range(top_left[0], bottom_right[0]+1):\n",
    "        for j in range(top_left[1], bottom_right[1]+1):\n",
    "            x = int(round((top_left[0]+bottom_right[0])/2))\n",
    "            y = int(round((top_left[1]+bottom_right[1])/2))\n",
    "            r = x - top_left[0]\n",
    "            if np.square(i - x)+np.square(j - y) <= np.square(r):\n",
    "                C[[i],[j]] = 1\n",
    "                \n",
    "    return C\n",
    "\n",
    "def create_random_shape(top_left, bottom_right, size):\n",
    "    i = random.randint(1,2)\n",
    "    if i==1:\n",
    "        return create_circle(top_left, bottom_right, size)\n",
    "    elif i==2:\n",
    "        return create_rectangle(top_left, bottom_right, size)\n",
    "    elif i==3:\n",
    "        return create_triangle(top_left, bottom_right, size)"
   ]
  },
  {
   "cell_type": "markdown",
   "metadata": {},
   "source": [
    "### Color the shapes randomly"
   ]
  },
  {
   "cell_type": "code",
   "execution_count": 25,
   "metadata": {},
   "outputs": [],
   "source": [
    "def create_random_color(Gray, size):\n",
    "    r=np.random.randint(1,255)\n",
    "    g=np.random.randint(1,255)\n",
    "    b=np.random.randint(1,255)\n",
    "    C_shape=np.concatenate((r*Gray,g*Gray,b*Gray))\n",
    "    C_shape=C_shape.reshape((3,size,size))\n",
    "    \n",
    "    return C_shape"
   ]
  },
  {
   "cell_type": "code",
   "execution_count": 26,
   "metadata": {},
   "outputs": [],
   "source": [
    "n = 20000 #number of arrays we want to create\n",
    "\n",
    "split = 18000 #how much we want to use for training\n",
    "epos = 40\n",
    "\n",
    "size = 100\n",
    "\n",
    "shapes = np.zeros((n, 3, size, size))\n",
    "shapes_attributes = np.zeros((n, 4))\n",
    "\n",
    "#create random dataset\n",
    "for i in range(n):\n",
    "    x_top = np.random.randint(10,(size-30))\n",
    "    y_left = np.random.randint(10,(size-30))\n",
    "    top_left = (x_top, y_left)\n",
    "\n",
    "    #x_bottom = np.random.randint((x_top+5), (size-10))    #not good for circles\n",
    "    #y_right = np.random.randint((y_left+5), (size-10))\n",
    "    #bottom_right = (x_bottom, y_right)\n",
    "    \n",
    "    x_bottom = np.random.randint((x_top+5), (size-10))     #both axis same lenght\n",
    "    y_right = np.random.randint((y_left+5), (size-10))\n",
    "    x = x_bottom - x_top\n",
    "    y = y_right - y_left\n",
    "    lenght = min(x,y)\n",
    "    x_bottom = x_top + lenght\n",
    "    y_right = y_left + lenght\n",
    "    bottom_right = (x_bottom, y_right)\n",
    "    \n",
    "    \n",
    "    attributes = np.array([x_top, y_left, x_bottom, y_right])\n",
    "    shapes_array = create_random_color(create_random_shape(top_left, bottom_right, size), size)\n",
    "    \n",
    "    shapes[i] = shapes_array\n",
    "    shapes_attributes[i] = attributes"
   ]
  },
  {
   "cell_type": "code",
   "execution_count": 27,
   "metadata": {},
   "outputs": [],
   "source": [
    "train_shapes, test_shapes = shapes[:split], shapes[split:]\n",
    "train_attributes, test_attributes = shapes_attributes[:split], shapes_attributes[split:]"
   ]
  },
  {
   "cell_type": "code",
   "execution_count": 1,
   "metadata": {},
   "outputs": [
    {
     "ename": "NameError",
     "evalue": "name 'train_shapes' is not defined",
     "output_type": "error",
     "traceback": [
      "\u001b[1;31m---------------------------------------------------------------------------\u001b[0m",
      "\u001b[1;31mNameError\u001b[0m                                 Traceback (most recent call last)",
      "\u001b[1;32m<ipython-input-1-9459997f6fa5>\u001b[0m in \u001b[0;36m<module>\u001b[1;34m\u001b[0m\n\u001b[1;32m----> 1\u001b[1;33m \u001b[0mprint\u001b[0m\u001b[1;33m(\u001b[0m\u001b[0mtrain_shapes\u001b[0m\u001b[1;33m.\u001b[0m\u001b[0mshape\u001b[0m\u001b[1;33m)\u001b[0m\u001b[1;33m\u001b[0m\u001b[1;33m\u001b[0m\u001b[0m\n\u001b[0m\u001b[0;32m      2\u001b[0m \u001b[0mprint\u001b[0m\u001b[1;33m(\u001b[0m\u001b[0mtrain_attributes\u001b[0m\u001b[1;33m.\u001b[0m\u001b[0mshape\u001b[0m\u001b[1;33m)\u001b[0m\u001b[1;33m\u001b[0m\u001b[1;33m\u001b[0m\u001b[0m\n\u001b[0;32m      3\u001b[0m \u001b[0mplt\u001b[0m\u001b[1;33m.\u001b[0m\u001b[0mimshow\u001b[0m\u001b[1;33m(\u001b[0m\u001b[0mshapes_array\u001b[0m\u001b[1;33m[\u001b[0m\u001b[1;36m1\u001b[0m\u001b[1;33m]\u001b[0m\u001b[1;33m)\u001b[0m \u001b[1;31m#just r-channel from rgb\u001b[0m\u001b[1;33m\u001b[0m\u001b[1;33m\u001b[0m\u001b[0m\n\u001b[0;32m      4\u001b[0m \u001b[0mtrain_shapes\u001b[0m \u001b[1;33m=\u001b[0m \u001b[0mtrain_shapes\u001b[0m\u001b[1;33m.\u001b[0m\u001b[0mreshape\u001b[0m\u001b[1;33m(\u001b[0m\u001b[0msplit\u001b[0m\u001b[1;33m,\u001b[0m \u001b[0msize\u001b[0m\u001b[1;33m,\u001b[0m \u001b[0msize\u001b[0m\u001b[1;33m,\u001b[0m \u001b[1;36m3\u001b[0m\u001b[1;33m)\u001b[0m\u001b[1;33m\u001b[0m\u001b[1;33m\u001b[0m\u001b[0m\n\u001b[0;32m      5\u001b[0m \u001b[0mtest_shapes\u001b[0m \u001b[1;33m=\u001b[0m \u001b[0mtest_shapes\u001b[0m\u001b[1;33m.\u001b[0m\u001b[0mreshape\u001b[0m\u001b[1;33m(\u001b[0m\u001b[0mn\u001b[0m\u001b[1;33m-\u001b[0m\u001b[0msplit\u001b[0m\u001b[1;33m,\u001b[0m \u001b[0msize\u001b[0m\u001b[1;33m,\u001b[0m \u001b[0msize\u001b[0m\u001b[1;33m,\u001b[0m \u001b[1;36m3\u001b[0m\u001b[1;33m)\u001b[0m\u001b[1;33m\u001b[0m\u001b[1;33m\u001b[0m\u001b[0m\n",
      "\u001b[1;31mNameError\u001b[0m: name 'train_shapes' is not defined"
     ]
    }
   ],
   "source": [
    "print(train_shapes.shape)\n",
    "print(train_attributes.shape)\n",
    "plt.imshow(shapes_array[1]) #just r-channel from rgb\n",
    "train_shapes = train_shapes.reshape(split, size, size, 3)\n",
    "test_shapes = test_shapes.reshape(n-split, size, size, 3)\n",
    "print(train_shapes.shape)\n",
    "print(test_shapes.shape)"
   ]
  },
  {
   "cell_type": "code",
   "execution_count": 9,
   "metadata": {},
   "outputs": [],
   "source": [
    "model = keras.Sequential([\n",
    "    keras.layers.Convolution2D(filters = 6, kernel_size = 25,data_format=\"channels_last\", input_shape = (size, size, 3)),\n",
    "    keras.layers.MaxPooling2D(pool_size = (2,2)),\n",
    "    keras.layers.Convolution2D(10, (3,3)),\n",
    "    keras.layers.Convolution2D(16, (3,3)),\n",
    "    keras.layers.MaxPooling2D(pool_size = (2,2)),\n",
    "    keras.layers.Convolution2D(8, (3,3)),\n",
    "    keras.layers.Convolution2D(8, (3,3)),\n",
    "    keras.layers.Flatten(),\n",
    "    keras.layers.Dense(4)\n",
    "])"
   ]
  },
  {
   "cell_type": "code",
   "execution_count": 10,
   "metadata": {},
   "outputs": [
    {
     "name": "stdout",
     "output_type": "stream",
     "text": [
      "Model: \"sequential\"\n",
      "_________________________________________________________________\n",
      "Layer (type)                 Output Shape              Param #   \n",
      "=================================================================\n",
      "conv2d (Conv2D)              (None, 76, 76, 6)         11256     \n",
      "_________________________________________________________________\n",
      "max_pooling2d (MaxPooling2D) (None, 38, 38, 6)         0         \n",
      "_________________________________________________________________\n",
      "conv2d_1 (Conv2D)            (None, 36, 36, 10)        550       \n",
      "_________________________________________________________________\n",
      "conv2d_2 (Conv2D)            (None, 34, 34, 16)        1456      \n",
      "_________________________________________________________________\n",
      "max_pooling2d_1 (MaxPooling2 (None, 17, 17, 16)        0         \n",
      "_________________________________________________________________\n",
      "conv2d_3 (Conv2D)            (None, 15, 15, 8)         1160      \n",
      "_________________________________________________________________\n",
      "conv2d_4 (Conv2D)            (None, 13, 13, 8)         584       \n",
      "_________________________________________________________________\n",
      "flatten (Flatten)            (None, 1352)              0         \n",
      "_________________________________________________________________\n",
      "dense (Dense)                (None, 4)                 5412      \n",
      "=================================================================\n",
      "Total params: 20,418\n",
      "Trainable params: 20,418\n",
      "Non-trainable params: 0\n",
      "_________________________________________________________________\n"
     ]
    }
   ],
   "source": [
    "model.summary()"
   ]
  },
  {
   "cell_type": "code",
   "execution_count": 11,
   "metadata": {},
   "outputs": [],
   "source": [
    "model.compile(loss= \"mean_squared_error\" , optimizer=\"adam\")"
   ]
  },
  {
   "cell_type": "code",
   "execution_count": 14,
   "metadata": {},
   "outputs": [
    {
     "name": "stdout",
     "output_type": "stream",
     "text": [
      "Epoch 1/40\n",
      "250/250 [==============================] - 230s 921ms/step - loss: 439.2700\n",
      "Epoch 2/40\n",
      "250/250 [==============================] - 230s 921ms/step - loss: 241.2828\n",
      "Epoch 3/40\n",
      "250/250 [==============================] - 230s 918ms/step - loss: 100.9077\n",
      "Epoch 4/40\n",
      "250/250 [==============================] - 230s 919ms/step - loss: 57.4745\n",
      "Epoch 5/40\n",
      "250/250 [==============================] - 230s 921ms/step - loss: 49.1298\n",
      "Epoch 6/40\n",
      "250/250 [==============================] - 231s 924ms/step - loss: 45.5324\n",
      "Epoch 7/40\n",
      "250/250 [==============================] - 230s 921ms/step - loss: 44.0055\n",
      "Epoch 8/40\n",
      "250/250 [==============================] - 230s 920ms/step - loss: 3883.1833\n",
      "Epoch 9/40\n",
      "250/250 [==============================] - 237s 948ms/step - loss: 1010.3616\n",
      "Epoch 10/40\n",
      "250/250 [==============================] - 234s 936ms/step - loss: 313.3460\n",
      "Epoch 11/40\n",
      "250/250 [==============================] - 234s 937ms/step - loss: 239.8663\n",
      "Epoch 12/40\n",
      "250/250 [==============================] - 234s 937ms/step - loss: 194.8020\n",
      "Epoch 13/40\n",
      "250/250 [==============================] - 233s 934ms/step - loss: 154.7943\n",
      "Epoch 14/40\n",
      "250/250 [==============================] - 234s 936ms/step - loss: 133.6616\n",
      "Epoch 15/40\n",
      "250/250 [==============================] - 236s 943ms/step - loss: 130.8266\n",
      "Epoch 16/40\n",
      "250/250 [==============================] - 242s 968ms/step - loss: 70.3772\n",
      "Epoch 17/40\n",
      "250/250 [==============================] - 233s 932ms/step - loss: 63.4675\n",
      "Epoch 18/40\n",
      "250/250 [==============================] - 241s 966ms/step - loss: 54.8252\n",
      "Epoch 19/40\n",
      "250/250 [==============================] - 245s 981ms/step - loss: 48.9808\n",
      "Epoch 20/40\n",
      "250/250 [==============================] - 249s 995ms/step - loss: 44.2768\n",
      "Epoch 21/40\n",
      "250/250 [==============================] - 238s 953ms/step - loss: 49.3616\n",
      "Epoch 22/40\n",
      "250/250 [==============================] - 234s 938ms/step - loss: 41.7789\n",
      "Epoch 23/40\n",
      "250/250 [==============================] - 234s 937ms/step - loss: 41.4469\n",
      "Epoch 24/40\n",
      "250/250 [==============================] - 258s 1s/step - loss: 39.9263\n",
      "Epoch 25/40\n",
      "250/250 [==============================] - 314s 1s/step - loss: 38.7343\n",
      "Epoch 26/40\n",
      "250/250 [==============================] - 276s 1s/step - loss: 38.5372\n",
      "Epoch 27/40\n",
      "250/250 [==============================] - 246s 982ms/step - loss: 37.4599\n",
      "Epoch 28/40\n",
      "250/250 [==============================] - 272s 1s/step - loss: 36.8905\n",
      "Epoch 29/40\n",
      "250/250 [==============================] - 268s 1s/step - loss: 36.6695\n",
      "Epoch 30/40\n",
      "250/250 [==============================] - 266s 1s/step - loss: 36.4971\n",
      "Epoch 31/40\n",
      "250/250 [==============================] - 342s 1s/step - loss: 35.5986\n",
      "Epoch 32/40\n",
      "250/250 [==============================] - 339s 1s/step - loss: 35.7080\n",
      "Epoch 33/40\n",
      "250/250 [==============================] - 256s 1s/step - loss: 35.7217\n",
      "Epoch 34/40\n",
      "250/250 [==============================] - 235s 939ms/step - loss: 35.3352\n",
      "Epoch 35/40\n",
      "250/250 [==============================] - 270s 1s/step - loss: 35.0221\n",
      "Epoch 36/40\n",
      "250/250 [==============================] - 256s 1s/step - loss: 35.1837\n",
      "Epoch 37/40\n",
      "250/250 [==============================] - 236s 945ms/step - loss: 34.9493\n",
      "Epoch 38/40\n",
      "250/250 [==============================] - 270s 1s/step - loss: 35.4138\n",
      "Epoch 39/40\n",
      "250/250 [==============================] - 272s 1s/step - loss: 35.7166\n",
      "Epoch 40/40\n",
      "250/250 [==============================] - 273s 1s/step - loss: 34.5060\n"
     ]
    },
    {
     "data": {
      "text/plain": [
       "<tensorflow.python.keras.callbacks.History at 0x12afbb15a48>"
      ]
     },
     "execution_count": 14,
     "metadata": {},
     "output_type": "execute_result"
    }
   ],
   "source": [
    "model.fit(train_shapes, train_attributes, epochs=epos)"
   ]
  },
  {
   "cell_type": "code",
   "execution_count": 15,
   "metadata": {},
   "outputs": [
    {
     "name": "stdout",
     "output_type": "stream",
     "text": [
      "63/63 [==============================] - 7s 105ms/step - loss: 48.1240\n"
     ]
    },
    {
     "data": {
      "text/plain": [
       "48.124027252197266"
      ]
     },
     "execution_count": 15,
     "metadata": {},
     "output_type": "execute_result"
    }
   ],
   "source": [
    "model.evaluate(test_shapes, test_attributes)"
   ]
  },
  {
   "cell_type": "code",
   "execution_count": 18,
   "metadata": {},
   "outputs": [
    {
     "name": "stdout",
     "output_type": "stream",
     "text": [
      "4.269142150878906\n",
      "7.034528732299805\n",
      "14.224342346191406\n",
      "7.548139572143555\n",
      "7.2963714599609375\n",
      "4.23907470703125\n",
      "3.0891075134277344\n",
      "4.297458648681641\n",
      "9.152961730957031\n",
      "5.700721740722656\n",
      "[13.029562 33.535656 33.269142 56.203495]\n",
      "[12. 37. 29. 54.]\n",
      "[31.034529 33.6922   54.908348 57.47564 ]\n",
      "[24. 31. 50. 57.]\n",
      "[47.260082 38.22215  72.77566  64.8303  ]\n",
      "[49. 38. 87. 76.]\n",
      "[27.54814  56.900566 38.483597 69.032394]\n",
      "[20. 53. 31. 64.]\n"
     ]
    }
   ],
   "source": [
    "predictions = model.predict(test_shapes)\n",
    "\n",
    "for i in range(10):\n",
    "    print(max(abs(predictions[i] - test_attributes[i])))\n",
    "    \n",
    "for i in range(4):\n",
    "    print(predictions[i])\n",
    "    print(test_attributes[i])"
   ]
  },
  {
   "cell_type": "code",
   "execution_count": null,
   "metadata": {},
   "outputs": [],
   "source": []
  }
 ],
 "metadata": {
  "kernelspec": {
   "display_name": "Python 3",
   "language": "python",
   "name": "python3"
  },
  "language_info": {
   "codemirror_mode": {
    "name": "ipython",
    "version": 3
   },
   "file_extension": ".py",
   "mimetype": "text/x-python",
   "name": "python",
   "nbconvert_exporter": "python",
   "pygments_lexer": "ipython3",
   "version": "3.7.4"
  }
 },
 "nbformat": 4,
 "nbformat_minor": 2
}

{
 "cells": [
  {
   "cell_type": "code",
   "execution_count": 1,
   "metadata": {},
   "outputs": [],
   "source": [
    "from PIL import Image, ImageDraw, ImageFilter\n",
    "import random\n",
    "import os\n",
    "import numpy as np\n",
    "import matplotlib.pyplot as plt\n",
    "%matplotlib inline\n",
    "import cv2\n",
    "import tensorflow as tf\n",
    "from tensorflow import keras\n",
    "from tensorflow.keras import Sequential\n",
    "from tensorflow.keras.models import Model\n",
    "from tensorflow.keras import layers\n",
    "from tensorflow.keras.layers import Dense, Input, Convolution2D,MaxPooling2D,AveragePooling2D,Flatten,Dropout\n",
    "from tensorflow.keras import optimizers\n",
    "from tqdm import tqdm\n",
    "import matplotlib.patches as patches\n",
    "plt.rcParams[\"figure.figsize\"] = (8,6)\n"
   ]
  },
  {
   "cell_type": "code",
   "execution_count": 3,
   "metadata": {},
   "outputs": [],
   "source": [
    "canvas_size=(300,300)\n",
    "sign_size_min=100\n",
    "sign_size_max=150\n",
    "samples=3000\n",
    "test_samples=100"
   ]
  },
  {
   "cell_type": "code",
   "execution_count": 4,
   "metadata": {},
   "outputs": [],
   "source": [
    "x_train=[]\n",
    "y_train=[]\n",
    "x_test=[]\n",
    "y_test=[]"
   ]
  },
  {
   "cell_type": "code",
   "execution_count": 7,
   "metadata": {},
   "outputs": [],
   "source": [
    "x_train=np.array(x_train)\n",
    "x_test=np.array(x_test)\n",
    "y_train=np.array(y_train)\n",
    "y_test=np.array(y_test)"
   ]
  },
  {
   "cell_type": "markdown",
   "metadata": {},
   "source": [
    "## Preprocessing"
   ]
  },
  {
   "cell_type": "markdown",
   "metadata": {},
   "source": [
    "#### Histograms"
   ]
  },
  {
   "cell_type": "code",
   "execution_count": 9,
   "metadata": {},
   "outputs": [
    {
     "name": "stdout",
     "output_type": "stream",
     "text": [
      "(2900, 300, 3, 1)\n"
     ]
    }
   ],
   "source": [
    "row_train=np.zeros((samples-test_samples, canvas_size[1], 3, 1))\n",
    "for i in range(samples-test_samples):\n",
    "    for j in range(canvas_size[1]):\n",
    "        for c in range(3):\n",
    "            row_train[i,j,c]=np.sum(x_train[i,j,:,c])\n",
    "            \n",
    "row_test=np.zeros((test_samples, canvas_size[1], 3, 1))\n",
    "for i in range(test_samples):\n",
    "    for j in range(canvas_size[1]):\n",
    "        for c in range(3):\n",
    "            row_train[i,j,c]=np.sum(x_test[i,j,:,c])\n",
    "\n",
    "\n",
    "            \n",
    "col_train=np.zeros((samples-test_samples, canvas_size[0], 3, 1))\n",
    "for i in range(samples-test_samples):\n",
    "    for j in range(canvas_size[0]):\n",
    "        for c in range(3):\n",
    "            col_train[i,j,c]=np.sum(x_train[i,:,j,c])\n",
    "            \n",
    "col_test=np.zeros((test_samples, canvas_size[0], 3, 1))\n",
    "for i in range(test_samples):\n",
    "    for j in range(canvas_size[0]):\n",
    "        for c in range(3):\n",
    "            col_test[i,j,c]=np.sum(x_test[i,:,j,c])\n",
    "            \n",
    "            \n",
    "print(row_train.shape)"
   ]
  },
  {
   "cell_type": "markdown",
   "metadata": {},
   "source": [
    "## Normalization"
   ]
  },
  {
   "cell_type": "code",
   "execution_count": 10,
   "metadata": {},
   "outputs": [],
   "source": [
    "#x_train = x_train.reshape(x_train.shape[0], canvas_size[0], canvas_size[1],3)\n",
    "#x_test = x_test.reshape(x_test.shape[0],  canvas_size[0], canvas_size[1],3)\n",
    "\n",
    "#Normalization\n",
    "x_train = x_train.astype('float32')/255\n",
    "x_test = x_test.astype('float32')/255\n",
    "y_train = y_train.astype('float32')/max(canvas_size)\n",
    "y_test = y_test.astype('float32')/max(canvas_size)\n",
    "\n",
    "\n",
    "#histogram\n",
    "row_train = row_train.astype('float32')/(canvas_size[0]*255)\n",
    "row_test = row_test.astype('float32')/(canvas_size[0]*255)\n",
    "col_train = col_train.astype('float32')/(canvas_size[1]*255)\n",
    "col_test = col_test.astype('float32')/(canvas_size[1]*255)"
   ]
  },
  {
   "cell_type": "markdown",
   "metadata": {},
   "source": [
    "## Define and train model"
   ]
  },
  {
   "cell_type": "code",
   "execution_count": 11,
   "metadata": {},
   "outputs": [],
   "source": [
    "img_input = keras.Input(shape=(canvas_size[1], canvas_size[0], 3), name=\"image\")\n",
    "row_input = keras.Input(shape=(canvas_size[1], 3, 1), name=\"row\")\n",
    "col_input = keras.Input(shape=(canvas_size[0], 3, 1), name=\"col\")\n",
    "\n",
    "x = layers.MaxPooling2D(pool_size=(2,2))(img_input)\n",
    "x = layers.Convolution2D(20, (3,3),activation='relu')(x)\n",
    "x = layers.Convolution2D(15, (3,3),activation='relu')(x)\n",
    "x = layers.MaxPooling2D(pool_size=(2,2))(x)\n",
    "x = layers.Convolution2D(10, (3,3),activation='relu')(x)\n",
    "x = layers.MaxPooling2D(pool_size=(2,2))(x)\n",
    "x_flat = layers.Flatten()(x)\n",
    "r = layers.Flatten()(row_input)\n",
    "r = layers.Dense(300, activation = 'relu')(r)\n",
    "r = layers.Dense(50, activation = 'relu')(r)\n",
    "r_flat = layers.Flatten()(r)\n",
    "c = layers.Flatten()(col_input)\n",
    "c = layers.Dense(300, activation = 'relu')(c)\n",
    "c = layers.Dense(50, activation = 'relu')(c)\n",
    "c_flat = layers.Flatten()(c)\n",
    "\n",
    "conc = layers.concatenate([x_flat, r_flat, c_flat])\n",
    "\n",
    "pos_pred = layers.Dense(4, name=\"output\")(conc)\n",
    "\n",
    "model = keras.Model(inputs=[img_input, row_input, col_input], outputs=[pos_pred])"
   ]
  },
  {
   "cell_type": "code",
   "execution_count": 12,
   "metadata": {},
   "outputs": [],
   "source": [
    "model.compile(optimizer='adam',loss='mse')\n"
   ]
  },
  {
   "cell_type": "code",
   "execution_count": 13,
   "metadata": {},
   "outputs": [
    {
     "name": "stdout",
     "output_type": "stream",
     "text": [
      "Model: \"model\"\n",
      "__________________________________________________________________________________________________\n",
      "Layer (type)                    Output Shape         Param #     Connected to                     \n",
      "==================================================================================================\n",
      "image (InputLayer)              [(None, 300, 300, 3) 0                                            \n",
      "__________________________________________________________________________________________________\n",
      "max_pooling2d (MaxPooling2D)    (None, 150, 150, 3)  0           image[0][0]                      \n",
      "__________________________________________________________________________________________________\n",
      "conv2d (Conv2D)                 (None, 148, 148, 20) 560         max_pooling2d[0][0]              \n",
      "__________________________________________________________________________________________________\n",
      "conv2d_1 (Conv2D)               (None, 146, 146, 15) 2715        conv2d[0][0]                     \n",
      "__________________________________________________________________________________________________\n",
      "row (InputLayer)                [(None, 300, 3, 1)]  0                                            \n",
      "__________________________________________________________________________________________________\n",
      "col (InputLayer)                [(None, 300, 3, 1)]  0                                            \n",
      "__________________________________________________________________________________________________\n",
      "max_pooling2d_1 (MaxPooling2D)  (None, 73, 73, 15)   0           conv2d_1[0][0]                   \n",
      "__________________________________________________________________________________________________\n",
      "flatten_1 (Flatten)             (None, 900)          0           row[0][0]                        \n",
      "__________________________________________________________________________________________________\n",
      "flatten_3 (Flatten)             (None, 900)          0           col[0][0]                        \n",
      "__________________________________________________________________________________________________\n",
      "conv2d_2 (Conv2D)               (None, 71, 71, 10)   1360        max_pooling2d_1[0][0]            \n",
      "__________________________________________________________________________________________________\n",
      "dense (Dense)                   (None, 300)          270300      flatten_1[0][0]                  \n",
      "__________________________________________________________________________________________________\n",
      "dense_2 (Dense)                 (None, 400)          360400      flatten_3[0][0]                  \n",
      "__________________________________________________________________________________________________\n",
      "max_pooling2d_2 (MaxPooling2D)  (None, 35, 35, 10)   0           conv2d_2[0][0]                   \n",
      "__________________________________________________________________________________________________\n",
      "dense_1 (Dense)                 (None, 10)           3010        dense[0][0]                      \n",
      "__________________________________________________________________________________________________\n",
      "dense_3 (Dense)                 (None, 10)           4010        dense_2[0][0]                    \n",
      "__________________________________________________________________________________________________\n",
      "flatten (Flatten)               (None, 12250)        0           max_pooling2d_2[0][0]            \n",
      "__________________________________________________________________________________________________\n",
      "flatten_2 (Flatten)             (None, 10)           0           dense_1[0][0]                    \n",
      "__________________________________________________________________________________________________\n",
      "flatten_4 (Flatten)             (None, 10)           0           dense_3[0][0]                    \n",
      "__________________________________________________________________________________________________\n",
      "concatenate (Concatenate)       (None, 12270)        0           flatten[0][0]                    \n",
      "                                                                 flatten_2[0][0]                  \n",
      "                                                                 flatten_4[0][0]                  \n",
      "__________________________________________________________________________________________________\n",
      "output (Dense)                  (None, 4)            49084       concatenate[0][0]                \n",
      "==================================================================================================\n",
      "Total params: 691,439\n",
      "Trainable params: 691,439\n",
      "Non-trainable params: 0\n",
      "__________________________________________________________________________________________________\n"
     ]
    }
   ],
   "source": [
    "model.summary()"
   ]
  },
  {
   "cell_type": "code",
   "execution_count": 14,
   "metadata": {},
   "outputs": [
    {
     "name": "stdout",
     "output_type": "stream",
     "text": [
      "Epoch 1/30\n",
      "131/131 - 58s - loss: 0.0305 - val_loss: 0.0084\n",
      "Epoch 2/30\n",
      "131/131 - 60s - loss: 0.0051 - val_loss: 0.0040\n",
      "Epoch 3/30\n",
      "131/131 - 68s - loss: 0.0036 - val_loss: 0.0034\n",
      "Epoch 4/30\n",
      "131/131 - 56s - loss: 0.0029 - val_loss: 0.0029\n",
      "Epoch 5/30\n",
      "131/131 - 56s - loss: 0.0021 - val_loss: 0.0028\n",
      "Epoch 6/30\n",
      "131/131 - 53s - loss: 0.0019 - val_loss: 0.0026\n",
      "Epoch 7/30\n",
      "131/131 - 54s - loss: 0.0016 - val_loss: 0.0027\n",
      "Epoch 8/30\n",
      "131/131 - 53s - loss: 0.0015 - val_loss: 0.0025\n",
      "Epoch 9/30\n",
      "131/131 - 53s - loss: 0.0013 - val_loss: 0.0027\n",
      "Epoch 10/30\n",
      "131/131 - 53s - loss: 0.0012 - val_loss: 0.0030\n",
      "Epoch 11/30\n",
      "131/131 - 55s - loss: 0.0011 - val_loss: 0.0021\n",
      "Epoch 12/30\n",
      "131/131 - 53s - loss: 9.2750e-04 - val_loss: 0.0021\n",
      "Epoch 13/30\n",
      "131/131 - 53s - loss: 0.0011 - val_loss: 0.0025\n",
      "Epoch 14/30\n",
      "131/131 - 53s - loss: 8.8086e-04 - val_loss: 0.0021\n",
      "Epoch 15/30\n",
      "131/131 - 54s - loss: 7.9993e-04 - val_loss: 0.0021\n",
      "Epoch 16/30\n",
      "131/131 - 53s - loss: 8.1651e-04 - val_loss: 0.0031\n",
      "Epoch 17/30\n",
      "131/131 - 53s - loss: 8.0206e-04 - val_loss: 0.0018\n",
      "Epoch 18/30\n",
      "131/131 - 54s - loss: 6.8330e-04 - val_loss: 0.0021\n",
      "Epoch 19/30\n",
      "131/131 - 53s - loss: 7.3657e-04 - val_loss: 0.0020\n",
      "Epoch 20/30\n",
      "131/131 - 53s - loss: 6.3819e-04 - val_loss: 0.0018\n",
      "Epoch 21/30\n",
      "131/131 - 53s - loss: 6.3613e-04 - val_loss: 0.0020\n",
      "Epoch 22/30\n",
      "131/131 - 53s - loss: 5.2597e-04 - val_loss: 0.0017\n",
      "Epoch 23/30\n",
      "131/131 - 54s - loss: 4.8583e-04 - val_loss: 0.0019\n",
      "Epoch 24/30\n",
      "131/131 - 53s - loss: 4.2146e-04 - val_loss: 0.0023\n",
      "Epoch 25/30\n",
      "131/131 - 53s - loss: 4.4208e-04 - val_loss: 0.0017\n",
      "Epoch 26/30\n",
      "131/131 - 53s - loss: 4.0806e-04 - val_loss: 0.0017\n",
      "Epoch 27/30\n",
      "131/131 - 54s - loss: 3.8614e-04 - val_loss: 0.0018\n",
      "Epoch 28/30\n",
      "131/131 - 53s - loss: 3.6672e-04 - val_loss: 0.0017\n",
      "Epoch 29/30\n",
      "131/131 - 54s - loss: 3.8362e-04 - val_loss: 0.0018\n",
      "Epoch 30/30\n",
      "131/131 - 54s - loss: 3.7791e-04 - val_loss: 0.0017\n"
     ]
    }
   ],
   "source": [
    "history=model.fit(\n",
    "    {\"image\": x_train, \"row\": row_train, \"col\": col_train},\n",
    "    {\"output\": y_train},\n",
    "    epochs=30, \n",
    "    batch_size=20, \n",
    "    validation_split=0.1, \n",
    "    shuffle=True, \n",
    "    verbose=2,\n",
    ")"
   ]
  },
  {
   "cell_type": "code",
   "execution_count": null,
   "metadata": {},
   "outputs": [],
   "source": []
  }
 ],
 "metadata": {
  "kernelspec": {
   "display_name": "Python 3",
   "language": "python",
   "name": "python3"
  },
  "language_info": {
   "codemirror_mode": {
    "name": "ipython",
    "version": 3
   },
   "file_extension": ".py",
   "mimetype": "text/x-python",
   "name": "python",
   "nbconvert_exporter": "python",
   "pygments_lexer": "ipython3",
   "version": "3.7.4"
  }
 },
 "nbformat": 4,
 "nbformat_minor": 4
}

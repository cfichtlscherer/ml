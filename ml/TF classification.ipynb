{
 "cells": [
  {
   "cell_type": "code",
   "execution_count": 71,
   "metadata": {},
   "outputs": [],
   "source": [
    "from PIL import Image, ImageDraw, ImageFilter\n",
    "import random\n",
    "import os\n",
    "import numpy as np\n",
    "import matplotlib.pyplot as plt\n",
    "from matplotlib import cm\n",
    "%matplotlib inline\n",
    "import keras\n",
    "from keras import Sequential\n",
    "from keras.models import Model\n",
    "from keras.callbacks import EarlyStopping\n",
    "from keras.layers import Dense, Input, Convolution2D,AveragePooling2D,MaxPooling2D,AveragePooling2D,Flatten,Dropout\n",
    "from keras import optimizers\n",
    "from tqdm import tqdm\n",
    "import matplotlib.patches as patches\n",
    "plt.rcParams[\"figure.figsize\"] = (8,6)\n",
    "from keras.utils import plot_model\n",
    "from keras.utils.np_utils import to_categorical  "
   ]
  },
  {
   "cell_type": "code",
   "execution_count": 2,
   "metadata": {},
   "outputs": [],
   "source": [
    "(_, _), (x_neg, _) = keras.datasets.cifar100.load_data()\n",
    "x_neg=[x_neg[2*i] for i in range(int(len(x_neg)/2))]"
   ]
  },
  {
   "cell_type": "markdown",
   "metadata": {},
   "source": [
    "### Red"
   ]
  },
  {
   "cell_type": "code",
   "execution_count": 3,
   "metadata": {},
   "outputs": [],
   "source": [
    "folder='../data/red'\n",
    "ims=list(filter(lambda x: x[0] != '.', os.listdir(folder)))\n",
    "\n",
    "x=[np.load(folder+'/image_'+str(i)+'.npy') for i in range(int(len(ims)/2))]\n",
    "y=[np.load(folder+'/values_'+str(i)+'.npy')for i in range(int(len(ims)/2))]\n",
    "\n",
    "x_r=x#.astype('float32')/255\n",
    "y_r = y#.astype('float32')/max(canvas_size)"
   ]
  },
  {
   "cell_type": "markdown",
   "metadata": {},
   "source": [
    "### White"
   ]
  },
  {
   "cell_type": "code",
   "execution_count": 4,
   "metadata": {},
   "outputs": [],
   "source": [
    "folder='../data/white'\n",
    "ims=list(filter(lambda x: x[0] != '.', os.listdir(folder)))\n",
    "\n",
    "x=[np.load(folder+'/image_'+str(i)+'.npy') for i in range(int(len(ims)/2))]\n",
    "y=[np.load(folder+'/values_'+str(i)+'.npy')for i in range(int(len(ims)/2))]\n",
    "\n",
    "x_w=x#.astype('float32')/255\n",
    "y_w = y#.astype('float32')/max(canvas_size)"
   ]
  },
  {
   "cell_type": "markdown",
   "metadata": {},
   "source": [
    "### Yellow"
   ]
  },
  {
   "cell_type": "code",
   "execution_count": 5,
   "metadata": {},
   "outputs": [],
   "source": [
    "folder='../data/yellow'\n",
    "ims=list(filter(lambda x: x[0] != '.', os.listdir(folder)))\n",
    "\n",
    "x=[np.load(folder+'/image_'+str(i)+'.npy') for i in range(int(len(ims)/2))]\n",
    "y=[np.load(folder+'/values_'+str(i)+'.npy')for i in range(int(len(ims)/2))]\n",
    "\n",
    "x_y=x#.astype('float32')/255\n",
    "y_y = y#.astype('float32')/max(canvas_size)"
   ]
  },
  {
   "cell_type": "markdown",
   "metadata": {},
   "source": [
    "### Blue"
   ]
  },
  {
   "cell_type": "code",
   "execution_count": 6,
   "metadata": {},
   "outputs": [],
   "source": [
    "folder='../data/blue'\n",
    "ims=list(filter(lambda x: x[0] != '.', os.listdir(folder)))\n",
    "\n",
    "x=[np.load(folder+'/image_'+str(i)+'.npy') for i in range(int(len(ims)/2))]\n",
    "y=[np.load(folder+'/values_'+str(i)+'.npy')for i in range(int(len(ims)/2))]\n",
    "x_b=x#.astype('float32')/255\n",
    "y_b = y#.astype('float32')/max(canvas_size)"
   ]
  },
  {
   "cell_type": "code",
   "execution_count": 10,
   "metadata": {},
   "outputs": [
    {
     "name": "stderr",
     "output_type": "stream",
     "text": [
      "100%|██████████| 4799/4799 [00:01<00:00, 3734.90it/s]\n"
     ]
    }
   ],
   "source": [
    "x_pos=[]\n",
    "x_tf=x_b+x_r+x_w+x_y\n",
    "y_tf=y_b+y_r+y_w+y_y\n",
    "for i in tqdm(range(len(x_tf))):\n",
    "    y=y_tf[i]\n",
    "    x=Image.fromarray(x_tf[i][int(y[2]):int(y[3]),int(y[0]):int(y[1])]).resize((32,32))\n",
    "    x_pos+=[np.array(x)]"
   ]
  },
  {
   "cell_type": "code",
   "execution_count": 83,
   "metadata": {},
   "outputs": [],
   "source": [
    "x_train,y_train,x_test,y_test=[],[],[],[]"
   ]
  },
  {
   "cell_type": "code",
   "execution_count": 84,
   "metadata": {},
   "outputs": [
    {
     "name": "stderr",
     "output_type": "stream",
     "text": [
      "100%|██████████| 4799/4799 [00:00<00:00, 26345.26it/s]\n"
     ]
    }
   ],
   "source": [
    "for i in tqdm(range(len(x_pos))):\n",
    "    if random.random()<0.9:\n",
    "        x_train+=[np.array(x_pos[i])/255]\n",
    "        y_train+=[np.array([1,0])]\n",
    "    else:\n",
    "        x_test+=[np.array(x_pos[i])/255]\n",
    "        y_test+=[np.array([1,0])]"
   ]
  },
  {
   "cell_type": "code",
   "execution_count": 85,
   "metadata": {},
   "outputs": [
    {
     "name": "stderr",
     "output_type": "stream",
     "text": [
      "100%|██████████| 5000/5000 [00:00<00:00, 30557.50it/s]\n"
     ]
    }
   ],
   "source": [
    "for i in tqdm(range(len(x_neg))):\n",
    "    if random.random()<0.9:\n",
    "        x_train+=[np.array(x_neg[i])/255]\n",
    "        y_train+=[np.array([0,1])]\n",
    "    else:\n",
    "        x_test+=[np.array(x_neg[i])/255]\n",
    "        y_test+=[np.array([0,1])]"
   ]
  },
  {
   "cell_type": "code",
   "execution_count": 117,
   "metadata": {},
   "outputs": [],
   "source": [
    "model = Sequential()\n",
    "model.add(Convolution2D(30, (3,3),activation='relu',input_shape=(32,32,3)))\n",
    "model.add(Convolution2D(30, (3,3),activation='relu'))\n",
    "model.add(Convolution2D(30, (3,3),activation='relu'))\n",
    "model.add(Flatten())\n",
    "model.add(Dense(64,activation='relu'))\n",
    "model.add(Dense(32,activation='relu'))\n",
    "model.add(Dense(2,activation='softmax'))\n",
    "model.build()"
   ]
  },
  {
   "cell_type": "code",
   "execution_count": 118,
   "metadata": {},
   "outputs": [
    {
     "data": {
      "text/plain": [
       "(8831, 2)"
      ]
     },
     "execution_count": 118,
     "metadata": {},
     "output_type": "execute_result"
    }
   ],
   "source": [
    "np.array(y_train).shape"
   ]
  },
  {
   "cell_type": "code",
   "execution_count": 119,
   "metadata": {},
   "outputs": [],
   "source": [
    "model.compile(optimizer='adam',loss='mse',metrics=[\"acc\"])"
   ]
  },
  {
   "cell_type": "code",
   "execution_count": 120,
   "metadata": {},
   "outputs": [
    {
     "name": "stdout",
     "output_type": "stream",
     "text": [
      "Train on 7947 samples, validate on 884 samples\n",
      "Epoch 1/10\n",
      "7947/7947 [==============================] - 25s 3ms/step - loss: 0.1414 - acc: 0.7992 - val_loss: 0.0506 - val_acc: 0.9367\n",
      "Epoch 2/10\n",
      "7947/7947 [==============================] - 29s 4ms/step - loss: 0.0597 - acc: 0.9227 - val_loss: 0.0680 - val_acc: 0.9140\n",
      "Epoch 3/10\n",
      "7947/7947 [==============================] - 24s 3ms/step - loss: 0.0441 - acc: 0.9420 - val_loss: 0.0417 - val_acc: 0.9446\n",
      "Epoch 4/10\n",
      "7947/7947 [==============================] - 26s 3ms/step - loss: 0.0302 - acc: 0.9619 - val_loss: 0.0119 - val_acc: 0.9864\n",
      "Epoch 5/10\n",
      "7947/7947 [==============================] - 26s 3ms/step - loss: 0.0263 - acc: 0.9651 - val_loss: 0.0353 - val_acc: 0.9514\n",
      "Epoch 6/10\n",
      "7947/7947 [==============================] - 21s 3ms/step - loss: 0.0198 - acc: 0.9743 - val_loss: 0.0614 - val_acc: 0.9265\n",
      "Epoch 7/10\n",
      "7947/7947 [==============================] - 23s 3ms/step - loss: 0.0163 - acc: 0.9800 - val_loss: 0.0475 - val_acc: 0.9367\n",
      "Epoch 8/10\n",
      "7947/7947 [==============================] - 22s 3ms/step - loss: 0.0142 - acc: 0.9825 - val_loss: 0.0444 - val_acc: 0.9400\n",
      "Epoch 9/10\n",
      "7947/7947 [==============================] - 22s 3ms/step - loss: 0.0130 - acc: 0.9845 - val_loss: 0.0553 - val_acc: 0.9310\n",
      "Epoch 10/10\n",
      "7947/7947 [==============================] - 21s 3ms/step - loss: 0.0105 - acc: 0.9867 - val_loss: 0.0381 - val_acc: 0.9514\n"
     ]
    },
    {
     "data": {
      "text/plain": [
       "<keras.callbacks.callbacks.History at 0x194ea0d68>"
      ]
     },
     "execution_count": 120,
     "metadata": {},
     "output_type": "execute_result"
    }
   ],
   "source": [
    "model.fit(np.array(x_train), np.array(y_train), epochs=10,\n",
    "                  validation_split=0.1, shuffle=True,\n",
    "                  verbose=1)"
   ]
  },
  {
   "cell_type": "code",
   "execution_count": 121,
   "metadata": {},
   "outputs": [
    {
     "name": "stdout",
     "output_type": "stream",
     "text": [
      "968/968 [==============================] - 1s 655us/step\n"
     ]
    },
    {
     "data": {
      "text/plain": [
       "[0.022121560221968355, 0.9700413346290588]"
      ]
     },
     "execution_count": 121,
     "metadata": {},
     "output_type": "execute_result"
    }
   ],
   "source": [
    "model.evaluate(np.array(x_test), np.array(y_test))"
   ]
  },
  {
   "cell_type": "code",
   "execution_count": 122,
   "metadata": {},
   "outputs": [],
   "source": [
    "model.save('../trained_models/binaryclassifier.h5')"
   ]
  },
  {
   "cell_type": "code",
   "execution_count": null,
   "metadata": {},
   "outputs": [],
   "source": []
  }
 ],
 "metadata": {
  "kernelspec": {
   "display_name": "Python 3",
   "language": "python",
   "name": "python3"
  },
  "language_info": {
   "codemirror_mode": {
    "name": "ipython",
    "version": 3
   },
   "file_extension": ".py",
   "mimetype": "text/x-python",
   "name": "python",
   "nbconvert_exporter": "python",
   "pygments_lexer": "ipython3",
   "version": "3.7.0"
  }
 },
 "nbformat": 4,
 "nbformat_minor": 4
}

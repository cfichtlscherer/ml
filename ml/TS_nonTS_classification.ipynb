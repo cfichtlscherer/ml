{
 "cells": [
  {
   "cell_type": "code",
   "execution_count": 27,
   "metadata": {},
   "outputs": [],
   "source": [
    "from PIL import Image, ImageDraw, ImageFilter\n",
    "import random\n",
    "import os\n",
    "import numpy as np\n",
    "import matplotlib.pyplot as plt\n",
    "from matplotlib import cm\n",
    "%matplotlib inline\n",
    "import keras\n",
    "from keras import Sequential\n",
    "from keras.models import Model\n",
    "from keras.callbacks import EarlyStopping\n",
    "from keras.layers import Dense, Input, Convolution2D,AveragePooling2D,MaxPooling2D,AveragePooling2D,Flatten,Dropout\n",
    "from keras import optimizers\n",
    "from tqdm import tqdm\n",
    "import matplotlib.patches as patches\n",
    "plt.rcParams[\"figure.figsize\"] = (8,6)\n",
    "from keras.utils import plot_model\n",
    "from keras.utils.np_utils import to_categorical  "
   ]
  },
  {
   "cell_type": "code",
   "execution_count": 28,
   "metadata": {},
   "outputs": [],
   "source": [
    "(_, _), (x_neg, _) = keras.datasets.cifar100.load_data()\n",
    "x_neg=[x_neg[2*i] for i in range(int(len(x_neg)/2))]"
   ]
  },
  {
   "cell_type": "markdown",
   "metadata": {},
   "source": [
    "### Red"
   ]
  },
  {
   "cell_type": "code",
   "execution_count": 29,
   "metadata": {},
   "outputs": [],
   "source": [
    "folder='../data/red'\n",
    "ims=list(filter(lambda x: x[0] != '.', os.listdir(folder)))\n",
    "\n",
    "x=[np.load(folder+'/image_'+str(i)+'.npy') for i in range(int(len(ims)/2))]\n",
    "y=[np.load(folder+'/values_'+str(i)+'.npy')for i in range(int(len(ims)/2))]\n",
    "\n",
    "x_r=x#.astype('float32')/255\n",
    "y_r = y#.astype('float32')/max(canvas_size)"
   ]
  },
  {
   "cell_type": "markdown",
   "metadata": {},
   "source": [
    "### White"
   ]
  },
  {
   "cell_type": "code",
   "execution_count": 30,
   "metadata": {},
   "outputs": [],
   "source": [
    "folder='../data/white'\n",
    "ims=list(filter(lambda x: x[0] != '.', os.listdir(folder)))\n",
    "\n",
    "x=[np.load(folder+'/image_'+str(i)+'.npy') for i in range(int(len(ims)/2))]\n",
    "y=[np.load(folder+'/values_'+str(i)+'.npy')for i in range(int(len(ims)/2))]\n",
    "\n",
    "x_w=x#.astype('float32')/255\n",
    "y_w = y#.astype('float32')/max(canvas_size)"
   ]
  },
  {
   "cell_type": "markdown",
   "metadata": {},
   "source": [
    "### Yellow"
   ]
  },
  {
   "cell_type": "code",
   "execution_count": 31,
   "metadata": {},
   "outputs": [],
   "source": [
    "folder='../data/yellow'\n",
    "ims=list(filter(lambda x: x[0] != '.', os.listdir(folder)))\n",
    "\n",
    "x=[np.load(folder+'/image_'+str(i)+'.npy') for i in range(int(len(ims)/2))]\n",
    "y=[np.load(folder+'/values_'+str(i)+'.npy')for i in range(int(len(ims)/2))]\n",
    "\n",
    "x_y=x#.astype('float32')/255\n",
    "y_y = y#.astype('float32')/max(canvas_size)"
   ]
  },
  {
   "cell_type": "markdown",
   "metadata": {},
   "source": [
    "### Blue"
   ]
  },
  {
   "cell_type": "code",
   "execution_count": 32,
   "metadata": {},
   "outputs": [],
   "source": [
    "folder='../data/blue'\n",
    "ims=list(filter(lambda x: x[0] != '.', os.listdir(folder)))\n",
    "\n",
    "x=[np.load(folder+'/image_'+str(i)+'.npy') for i in range(int(len(ims)/2))]\n",
    "y=[np.load(folder+'/values_'+str(i)+'.npy')for i in range(int(len(ims)/2))]\n",
    "x_b=x#.astype('float32')/255\n",
    "y_b = y#.astype('float32')/max(canvas_size)"
   ]
  },
  {
   "cell_type": "code",
   "execution_count": 33,
   "metadata": {},
   "outputs": [
    {
     "name": "stderr",
     "output_type": "stream",
     "text": [
      "100%|██████████| 4799/4799 [00:02<00:00, 2026.32it/s]\n"
     ]
    }
   ],
   "source": [
    "x_pos=[]\n",
    "x_tf=x_b+x_r+x_w+x_y\n",
    "y_tf=y_b+y_r+y_w+y_y\n",
    "for i in tqdm(range(len(x_tf))):\n",
    "    y=y_tf[i]\n",
    "    x=Image.fromarray(x_tf[i][int(y[2]):int(y[3]),int(y[0]):int(y[1])]).resize((32,32))\n",
    "    x_pos+=[np.array(x)]"
   ]
  },
  {
   "cell_type": "code",
   "execution_count": 37,
   "metadata": {},
   "outputs": [],
   "source": [
    "x_train,y_train,x_test,y_test=[],[],[],[]"
   ]
  },
  {
   "cell_type": "code",
   "execution_count": 38,
   "metadata": {},
   "outputs": [
    {
     "name": "stderr",
     "output_type": "stream",
     "text": [
      "100%|██████████| 4799/4799 [00:00<00:00, 28395.14it/s]\n"
     ]
    }
   ],
   "source": [
    "for i in tqdm(range(len(x_pos))):\n",
    "    if random.random()<0.9:\n",
    "        x_train+=[np.array(x_pos[i])/255]\n",
    "        y_train+=[1]\n",
    "    else:\n",
    "        x_test+=[np.array(x_pos[i])/255]\n",
    "        y_test+=[1]"
   ]
  },
  {
   "cell_type": "code",
   "execution_count": 39,
   "metadata": {},
   "outputs": [
    {
     "name": "stderr",
     "output_type": "stream",
     "text": [
      "100%|██████████| 5000/5000 [00:00<00:00, 40550.53it/s]\n"
     ]
    }
   ],
   "source": [
    "for i in tqdm(range(len(x_neg))):\n",
    "    if random.random()<0.9:\n",
    "        x_train+=[np.array(x_neg[i])/255]\n",
    "        y_train+=[0]\n",
    "    else:\n",
    "        x_test+=[np.array(x_neg[i])/255]\n",
    "        y_test+=[0]"
   ]
  },
  {
   "cell_type": "code",
   "execution_count": 42,
   "metadata": {},
   "outputs": [],
   "source": [
    "model = Sequential()\n",
    "model.add(Convolution2D(30, (3,3),activation='relu',input_shape=(32,32,3)))\n",
    "model.add(Convolution2D(30, (3,3),activation='relu'))\n",
    "model.add(Convolution2D(30, (3,3),activation='relu'))\n",
    "model.add(Flatten())\n",
    "model.add(Dense(64,activation='relu'))\n",
    "model.add(Dense(32,activation='relu'))\n",
    "model.add(Dense(1,activation='sigmoid'))\n",
    "model.build()"
   ]
  },
  {
   "cell_type": "code",
   "execution_count": 43,
   "metadata": {},
   "outputs": [
    {
     "data": {
      "text/plain": [
       "(8833,)"
      ]
     },
     "execution_count": 43,
     "metadata": {},
     "output_type": "execute_result"
    }
   ],
   "source": [
    "np.array(y_train).shape"
   ]
  },
  {
   "cell_type": "code",
   "execution_count": 44,
   "metadata": {},
   "outputs": [],
   "source": [
    "model.compile(optimizer='adam',loss='mse',metrics=[\"acc\"])"
   ]
  },
  {
   "cell_type": "code",
   "execution_count": null,
   "metadata": {},
   "outputs": [
    {
     "name": "stdout",
     "output_type": "stream",
     "text": [
      "Train on 7949 samples, validate on 884 samples\n",
      "Epoch 1/10\n",
      "7949/7949 [==============================] - 24s 3ms/step - loss: 0.1224 - acc: 0.8278 - val_loss: 0.0532 - val_acc: 0.9378\n",
      "Epoch 2/10\n",
      "7949/7949 [==============================] - 24s 3ms/step - loss: 0.0556 - acc: 0.9257 - val_loss: 0.0461 - val_acc: 0.9480\n",
      "Epoch 3/10\n",
      "7949/7949 [==============================] - 24s 3ms/step - loss: 0.0386 - acc: 0.9509 - val_loss: 0.0169 - val_acc: 0.9796\n",
      "Epoch 4/10\n",
      "7949/7949 [==============================] - 25s 3ms/step - loss: 0.0303 - acc: 0.9615 - val_loss: 0.0151 - val_acc: 0.9808\n",
      "Epoch 5/10\n",
      "7949/7949 [==============================] - 22s 3ms/step - loss: 0.0246 - acc: 0.9679 - val_loss: 0.0385 - val_acc: 0.9457\n",
      "Epoch 6/10\n",
      "7949/7949 [==============================] - 22s 3ms/step - loss: 0.0189 - acc: 0.9763 - val_loss: 0.0298 - val_acc: 0.9638\n",
      "Epoch 7/10\n",
      "7949/7949 [==============================] - 23s 3ms/step - loss: 0.0163 - acc: 0.9804 - val_loss: 0.0530 - val_acc: 0.9310\n",
      "Epoch 8/10\n",
      "7949/7949 [==============================] - 23s 3ms/step - loss: 0.0165 - acc: 0.9797 - val_loss: 0.0176 - val_acc: 0.9808\n",
      "Epoch 9/10\n",
      "  64/7949 [..............................] - ETA: 26s - loss: 0.0329 - acc: 0.9688"
     ]
    }
   ],
   "source": [
    "model.fit(np.array(x_train), np.array(y_train), epochs=10,\n",
    "                  validation_split=0.1, shuffle=True,\n",
    "                  verbose=1)"
   ]
  },
  {
   "cell_type": "code",
   "execution_count": 121,
   "metadata": {},
   "outputs": [
    {
     "name": "stdout",
     "output_type": "stream",
     "text": [
      "968/968 [==============================] - 1s 655us/step\n"
     ]
    },
    {
     "data": {
      "text/plain": [
       "[0.022121560221968355, 0.9700413346290588]"
      ]
     },
     "execution_count": 121,
     "metadata": {},
     "output_type": "execute_result"
    }
   ],
   "source": [
    "model.evaluate(np.array(x_test), np.array(y_test))"
   ]
  },
  {
   "cell_type": "code",
   "execution_count": 122,
   "metadata": {},
   "outputs": [],
   "source": [
    "model.save('../trained_models/binaryclassifier.h5')"
   ]
  },
  {
   "cell_type": "code",
   "execution_count": null,
   "metadata": {},
   "outputs": [],
   "source": []
  }
 ],
 "metadata": {
  "kernelspec": {
   "display_name": "Python 3",
   "language": "python",
   "name": "python3"
  },
  "language_info": {
   "codemirror_mode": {
    "name": "ipython",
    "version": 3
   },
   "file_extension": ".py",
   "mimetype": "text/x-python",
   "name": "python",
   "nbconvert_exporter": "python",
   "pygments_lexer": "ipython3",
   "version": "3.7.0"
  }
 },
 "nbformat": 4,
 "nbformat_minor": 4
}
